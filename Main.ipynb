{
 "cells": [
  {
   "cell_type": "code",
   "execution_count": null,
   "metadata": {},
   "outputs": [],
   "source": [
    "from MyClass.fila_normal import FilaNormal\n",
    "from MyClass.FilaPrioritaria import FilaPrioritaria\n",
    "\n",
    "fila_teste = FilaNormal()\n",
    "fila_teste.atualiza_fila()\n",
    "fila_teste.atualiza_fila()\n",
    "fila_teste.atualiza_fila()\n",
    "print(fila_teste.chama_cliente(12))"
   ]
  },
  {
   "cell_type": "code",
   "execution_count": null,
   "metadata": {},
   "outputs": [],
   "source": [
    "fila_prioritaria = FilaPrioritaria()\n",
    "fila_prioritaria.atualiza_fila()\n",
    "fila_prioritaria.atualiza_fila()\n",
    "fila_prioritaria.atualiza_fila()\n",
    "print(fila_prioritaria.chama_cliente(10))"
   ]
  },
  {
   "cell_type": "code",
   "execution_count": null,
   "metadata": {},
   "outputs": [],
   "source": [
    "print(fila_prioritaria.estatistica('10', 198, 'detail'))"
   ]
  },
  {
   "cell_type": "code",
   "execution_count": null,
   "metadata": {},
   "outputs": [],
   "source": [
    "#Testando padrão de fabricas e tipagens"
   ]
  },
  {
   "cell_type": "code",
   "execution_count": 1,
   "metadata": {},
   "outputs": [
    {
     "name": "stdout",
     "output_type": "stream",
     "text": [
      "Cliente atual NM1, dirija-se ao caixa 12\n"
     ]
    }
   ],
   "source": [
    "from MyClass.fabrica_fila import FabricaFila\n",
    "\n",
    "teste_fabrica = FabricaFila.pega_fila('normal')\n",
    "teste_fabrica.atualiza_fila()\n",
    "teste_fabrica.atualiza_fila()\n",
    "teste_fabrica.atualiza_fila()\n",
    "print(teste_fabrica.chama_cliente(12))"
   ]
  },
  {
   "cell_type": "code",
   "execution_count": null,
   "metadata": {},
   "outputs": [],
   "source": []
  }
 ],
 "metadata": {
  "kernelspec": {
   "display_name": "Python 3",
   "language": "python",
   "name": "python3"
  },
  "language_info": {
   "codemirror_mode": {
    "name": "ipython",
    "version": 3
   },
   "file_extension": ".py",
   "mimetype": "text/x-python",
   "name": "python",
   "nbconvert_exporter": "python",
   "pygments_lexer": "ipython3",
   "version": "3.8.5"
  }
 },
 "nbformat": 4,
 "nbformat_minor": 4
}
