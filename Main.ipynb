{
 "cells": [
  {
   "cell_type": "code",
   "execution_count": null,
   "metadata": {},
   "outputs": [],
   "source": [
    "from MyClass.fila_normal import fila_normal\n",
    "from MyClass.FilaPrioritaria import FilaPrioritaria\n",
    "\n",
    "fila_teste = fila_normal()\n",
    "fila_teste.atualizafila()\n",
    "fila_teste.atualizafila()\n",
    "fila_teste.atualizafila()\n",
    "print(fila_teste.chamacliente(12))"
   ]
  },
  {
   "cell_type": "code",
   "execution_count": null,
   "metadata": {},
   "outputs": [],
   "source": [
    "fila_prioritaria = FilaPrioritaria()\n",
    "fila_prioritaria.atualiza_fila()\n",
    "fila_prioritaria.atualiza_fila()\n",
    "fila_prioritaria.atualiza_fila()\n",
    "print(fila_prioritaria.chama_cliente(10))"
   ]
  },
  {
   "cell_type": "code",
   "execution_count": null,
   "metadata": {},
   "outputs": [],
   "source": [
    "print(fila_prioritaria.estatistica('10', 198, 'detail'))"
   ]
  }
 ],
 "metadata": {
  "kernelspec": {
   "display_name": "Python 3",
   "language": "python",
   "name": "python3"
  },
  "language_info": {
   "codemirror_mode": {
    "name": "ipython",
    "version": 3
   },
   "file_extension": ".py",
   "mimetype": "text/x-python",
   "name": "python",
   "nbconvert_exporter": "python",
   "pygments_lexer": "ipython3",
   "version": "3.8.5"
  }
 },
 "nbformat": 4,
 "nbformat_minor": 4
}
